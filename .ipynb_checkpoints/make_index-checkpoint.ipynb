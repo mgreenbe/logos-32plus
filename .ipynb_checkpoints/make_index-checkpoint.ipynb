{
 "cells": [
  {
   "cell_type": "code",
   "execution_count": 1,
   "metadata": {},
   "outputs": [],
   "source": [
    "import pandas as pd\n",
    "import tensorflow as tf\n",
    "from tensorflow.keras.preprocessing.image import load_img, save_img\n",
    "from pathlib import Path"
   ]
  },
  {
   "cell_type": "code",
   "execution_count": 23,
   "metadata": {},
   "outputs": [
    {
     "name": "stdout",
     "output_type": "stream",
     "text": [
      "images/apple/000608.jpg\n",
      "images/starbucks/006523.jpg\n",
      "images/rittersport/006133.jpg\n",
      "images/stellaartois/007167.jpg\n",
      "images/milka/005228.jpg\n",
      "images/ferrari/004136.jpg\n",
      "images/ups/007629.jpg\n",
      "images/corona/002547.jpg\n",
      "images/ford/004308.jpg\n",
      "images/cocacola/002023.jpg\n",
      "images/paulaner/005770.jpg\n",
      "images/HP/005016.jpg\n",
      "images/fedex/003467.jpg\n",
      "images/texaco/007198.jpg\n",
      "images/shell/006279.jpg\n",
      "images/google/004526.jpg\n",
      "images/pepsi/005994.jpg\n",
      "images/chimay/001714.jpg\n",
      "images/aldi/000191.jpg\n",
      "images/guinness/004678.jpg\n",
      "images/tsingtao/007601.jpg\n",
      "images/heineken/004888.jpg\n",
      "images/singha/006331.jpg\n",
      "images/nvidia/005412.jpg\n",
      "images/fosters/004452.jpg\n",
      "images/adidas/000152.jpg\n",
      "images/becks/000813.jpg\n",
      "images/esso/003301.jpg\n",
      "images/dhl/002779.jpg\n",
      "images/bmw/001270.jpg\n",
      "images/carlsberg/001516.jpg\n",
      "images/erdinger/003103.jpg\n"
     ]
    }
   ],
   "source": [
    "PATH = Path(\"images\")\n",
    "\n",
    "filenames = []\n",
    "labels = []\n",
    "counts = {}\n",
    "\n",
    "for d in PATH.iterdir():\n",
    "    if d.is_dir():\n",
    "        count = 0\n",
    "        for f in d.iterdir():\n",
    "            if f.suffix == \".jpg\":\n",
    "                count += 1\n",
    "                filenames.append(str(f))\n",
    "                labels.append(d.name)\n",
    "        counts[d.name] = count"
   ]
  },
  {
   "cell_type": "code",
   "execution_count": 24,
   "metadata": {},
   "outputs": [],
   "source": [
    "df = pd.DataFrame({\"filename\": filenames, \"class\": labels})"
   ]
  },
  {
   "cell_type": "code",
   "execution_count": 25,
   "metadata": {},
   "outputs": [],
   "source": [
    "df.to_csv(\"index.csv\", index=False)"
   ]
  },
  {
   "cell_type": "code",
   "execution_count": 26,
   "metadata": {},
   "outputs": [
    {
     "data": {
      "text/html": [
       "<div>\n",
       "<style scoped>\n",
       "    .dataframe tbody tr th:only-of-type {\n",
       "        vertical-align: middle;\n",
       "    }\n",
       "\n",
       "    .dataframe tbody tr th {\n",
       "        vertical-align: top;\n",
       "    }\n",
       "\n",
       "    .dataframe thead th {\n",
       "        text-align: right;\n",
       "    }\n",
       "</style>\n",
       "<table border=\"1\" class=\"dataframe\">\n",
       "  <thead>\n",
       "    <tr style=\"text-align: right;\">\n",
       "      <th></th>\n",
       "      <th>filename</th>\n",
       "      <th>class</th>\n",
       "    </tr>\n",
       "  </thead>\n",
       "  <tbody>\n",
       "    <tr>\n",
       "      <td>0</td>\n",
       "      <td>images/apple/000608.jpg</td>\n",
       "      <td>apple</td>\n",
       "    </tr>\n",
       "    <tr>\n",
       "      <td>1</td>\n",
       "      <td>images/apple/000634.jpg</td>\n",
       "      <td>apple</td>\n",
       "    </tr>\n",
       "    <tr>\n",
       "      <td>2</td>\n",
       "      <td>images/apple/000620.jpg</td>\n",
       "      <td>apple</td>\n",
       "    </tr>\n",
       "    <tr>\n",
       "      <td>3</td>\n",
       "      <td>images/apple/000378.jpg</td>\n",
       "      <td>apple</td>\n",
       "    </tr>\n",
       "    <tr>\n",
       "      <td>4</td>\n",
       "      <td>images/apple/000350.jpg</td>\n",
       "      <td>apple</td>\n",
       "    </tr>\n",
       "    <tr>\n",
       "      <td>...</td>\n",
       "      <td>...</td>\n",
       "      <td>...</td>\n",
       "    </tr>\n",
       "    <tr>\n",
       "      <td>7825</td>\n",
       "      <td>images/erdinger/003091.jpg</td>\n",
       "      <td>erdinger</td>\n",
       "    </tr>\n",
       "    <tr>\n",
       "      <td>7826</td>\n",
       "      <td>images/erdinger/003046.jpg</td>\n",
       "      <td>erdinger</td>\n",
       "    </tr>\n",
       "    <tr>\n",
       "      <td>7827</td>\n",
       "      <td>images/erdinger/003052.jpg</td>\n",
       "      <td>erdinger</td>\n",
       "    </tr>\n",
       "    <tr>\n",
       "      <td>7828</td>\n",
       "      <td>images/erdinger/003132.jpg</td>\n",
       "      <td>erdinger</td>\n",
       "    </tr>\n",
       "    <tr>\n",
       "      <td>7829</td>\n",
       "      <td>images/erdinger/003126.jpg</td>\n",
       "      <td>erdinger</td>\n",
       "    </tr>\n",
       "  </tbody>\n",
       "</table>\n",
       "<p>7830 rows × 2 columns</p>\n",
       "</div>"
      ],
      "text/plain": [
       "                        filename     class\n",
       "0        images/apple/000608.jpg     apple\n",
       "1        images/apple/000634.jpg     apple\n",
       "2        images/apple/000620.jpg     apple\n",
       "3        images/apple/000378.jpg     apple\n",
       "4        images/apple/000350.jpg     apple\n",
       "...                          ...       ...\n",
       "7825  images/erdinger/003091.jpg  erdinger\n",
       "7826  images/erdinger/003046.jpg  erdinger\n",
       "7827  images/erdinger/003052.jpg  erdinger\n",
       "7828  images/erdinger/003132.jpg  erdinger\n",
       "7829  images/erdinger/003126.jpg  erdinger\n",
       "\n",
       "[7830 rows x 2 columns]"
      ]
     },
     "execution_count": 26,
     "metadata": {},
     "output_type": "execute_result"
    }
   ],
   "source": [
    "df"
   ]
  },
  {
   "cell_type": "code",
   "execution_count": null,
   "metadata": {},
   "outputs": [],
   "source": []
  }
 ],
 "metadata": {
  "kernelspec": {
   "display_name": "Python 3",
   "language": "python",
   "name": "python3"
  },
  "language_info": {
   "codemirror_mode": {
    "name": "ipython",
    "version": 3
   },
   "file_extension": ".py",
   "mimetype": "text/x-python",
   "name": "python",
   "nbconvert_exporter": "python",
   "pygments_lexer": "ipython3",
   "version": "3.7.4"
  }
 },
 "nbformat": 4,
 "nbformat_minor": 2
}
