{
 "cells": [
  {
   "cell_type": "code",
   "execution_count": 1,
   "metadata": {},
   "outputs": [],
   "source": [
    "import pandas as pd\n",
    "import tensorflow as tf\n",
    "from tensorflow.keras.preprocessing.image import load_img, save_img\n",
    "from pathlib import Path"
   ]
  },
  {
   "cell_type": "code",
   "execution_count": 35,
   "metadata": {},
   "outputs": [],
   "source": [
    "PATH = Path(\"images\")\n",
    "\n",
    "filenames = []\n",
    "labels = []\n",
    "counts = {}\n",
    "\n",
    "for d in PATH.iterdir():\n",
    "    if d.is_dir():\n",
    "        count = 0\n",
    "        for f in d.iterdir():\n",
    "            if f.suffix == \".jpg\":\n",
    "                count += 1\n",
    "                filenames.append(str(f))\n",
    "                labels.append(d.name.lower())\n",
    "        counts[d.name] = count"
   ]
  },
  {
   "cell_type": "code",
   "execution_count": 36,
   "metadata": {},
   "outputs": [],
   "source": [
    "df = pd.DataFrame({\"filename\": filenames, \"label\": labels})"
   ]
  },
  {
   "cell_type": "code",
   "execution_count": 37,
   "metadata": {},
   "outputs": [],
   "source": [
    "df.to_csv(\"index.csv\", index=False)"
   ]
  },
  {
   "cell_type": "code",
   "execution_count": 33,
   "metadata": {},
   "outputs": [
    {
     "data": {
      "text/html": [
       "<div>\n",
       "<style scoped>\n",
       "    .dataframe tbody tr th:only-of-type {\n",
       "        vertical-align: middle;\n",
       "    }\n",
       "\n",
       "    .dataframe tbody tr th {\n",
       "        vertical-align: top;\n",
       "    }\n",
       "\n",
       "    .dataframe thead th {\n",
       "        text-align: right;\n",
       "    }\n",
       "</style>\n",
       "<table border=\"1\" class=\"dataframe\">\n",
       "  <thead>\n",
       "    <tr style=\"text-align: right;\">\n",
       "      <th></th>\n",
       "      <th>filename</th>\n",
       "      <th>label</th>\n",
       "    </tr>\n",
       "  </thead>\n",
       "  <tbody>\n",
       "    <tr>\n",
       "      <td>0</td>\n",
       "      <td>images/apple/000608.jpg</td>\n",
       "      <td>apple</td>\n",
       "    </tr>\n",
       "    <tr>\n",
       "      <td>1</td>\n",
       "      <td>images/apple/000634.jpg</td>\n",
       "      <td>apple</td>\n",
       "    </tr>\n",
       "    <tr>\n",
       "      <td>2</td>\n",
       "      <td>images/apple/000620.jpg</td>\n",
       "      <td>apple</td>\n",
       "    </tr>\n",
       "    <tr>\n",
       "      <td>3</td>\n",
       "      <td>images/apple/000378.jpg</td>\n",
       "      <td>apple</td>\n",
       "    </tr>\n",
       "    <tr>\n",
       "      <td>4</td>\n",
       "      <td>images/apple/000350.jpg</td>\n",
       "      <td>apple</td>\n",
       "    </tr>\n",
       "    <tr>\n",
       "      <td>...</td>\n",
       "      <td>...</td>\n",
       "      <td>...</td>\n",
       "    </tr>\n",
       "    <tr>\n",
       "      <td>7825</td>\n",
       "      <td>images/erdinger/003091.jpg</td>\n",
       "      <td>erdinger</td>\n",
       "    </tr>\n",
       "    <tr>\n",
       "      <td>7826</td>\n",
       "      <td>images/erdinger/003046.jpg</td>\n",
       "      <td>erdinger</td>\n",
       "    </tr>\n",
       "    <tr>\n",
       "      <td>7827</td>\n",
       "      <td>images/erdinger/003052.jpg</td>\n",
       "      <td>erdinger</td>\n",
       "    </tr>\n",
       "    <tr>\n",
       "      <td>7828</td>\n",
       "      <td>images/erdinger/003132.jpg</td>\n",
       "      <td>erdinger</td>\n",
       "    </tr>\n",
       "    <tr>\n",
       "      <td>7829</td>\n",
       "      <td>images/erdinger/003126.jpg</td>\n",
       "      <td>erdinger</td>\n",
       "    </tr>\n",
       "  </tbody>\n",
       "</table>\n",
       "<p>7830 rows × 2 columns</p>\n",
       "</div>"
      ],
      "text/plain": [
       "                        filename     label\n",
       "0        images/apple/000608.jpg     apple\n",
       "1        images/apple/000634.jpg     apple\n",
       "2        images/apple/000620.jpg     apple\n",
       "3        images/apple/000378.jpg     apple\n",
       "4        images/apple/000350.jpg     apple\n",
       "...                          ...       ...\n",
       "7825  images/erdinger/003091.jpg  erdinger\n",
       "7826  images/erdinger/003046.jpg  erdinger\n",
       "7827  images/erdinger/003052.jpg  erdinger\n",
       "7828  images/erdinger/003132.jpg  erdinger\n",
       "7829  images/erdinger/003126.jpg  erdinger\n",
       "\n",
       "[7830 rows x 2 columns]"
      ]
     },
     "execution_count": 33,
     "metadata": {},
     "output_type": "execute_result"
    }
   ],
   "source": [
    "df"
   ]
  },
  {
   "cell_type": "code",
   "execution_count": null,
   "metadata": {},
   "outputs": [],
   "source": []
  }
 ],
 "metadata": {
  "kernelspec": {
   "display_name": "Python 3",
   "language": "python",
   "name": "python3"
  },
  "language_info": {
   "codemirror_mode": {
    "name": "ipython",
    "version": 3
   },
   "file_extension": ".py",
   "mimetype": "text/x-python",
   "name": "python",
   "nbconvert_exporter": "python",
   "pygments_lexer": "ipython3",
   "version": "3.7.4"
  }
 },
 "nbformat": 4,
 "nbformat_minor": 2
}
